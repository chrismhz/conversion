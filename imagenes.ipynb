{
 "cells": [
  {
   "cell_type": "code",
   "execution_count": 1,
   "id": "71c67923",
   "metadata": {},
   "outputs": [
    {
     "name": "stdout",
     "output_type": "stream",
     "text": [
      "Matriz de la imagen:\n",
      "[[[34 27  8]\n",
      "  [34 27  8]\n",
      "  [34 27  8]\n",
      "  ...\n",
      "  [29 20  6]\n",
      "  [29 20  6]\n",
      "  [29 20  6]]\n",
      "\n",
      " [[34 27  8]\n",
      "  [34 27  8]\n",
      "  [34 27  8]\n",
      "  ...\n",
      "  [29 20  6]\n",
      "  [29 20  6]\n",
      "  [29 20  6]]\n",
      "\n",
      " [[34 27  8]\n",
      "  [34 27  8]\n",
      "  [34 27  8]\n",
      "  ...\n",
      "  [29 20  6]\n",
      "  [29 20  6]\n",
      "  [29 20  6]]\n",
      "\n",
      " ...\n",
      "\n",
      " [[19 15  4]\n",
      "  [15 11  0]\n",
      "  [11  7  0]\n",
      "  ...\n",
      "  [31 25  6]\n",
      "  [32 26  7]\n",
      "  [33 27  8]]\n",
      "\n",
      " [[17 13  2]\n",
      "  [13  9  0]\n",
      "  [20 16  5]\n",
      "  ...\n",
      "  [32 26  7]\n",
      "  [32 26  7]\n",
      "  [32 26  7]]\n",
      "\n",
      " [[17 13  2]\n",
      "  [13  9  0]\n",
      "  [20 16  5]\n",
      "  ...\n",
      "  [32 26  7]\n",
      "  [32 26  7]\n",
      "  [32 26  7]]]\n"
     ]
    }
   ],
   "source": [
    "import cv2\n",
    "import numpy as np\n",
    "\n",
    "# Cargar una imagen desde el archivo\n",
    "imagen = cv2.imread('imagen.jpg')\n",
    "\n",
    "# Verifica si la imagen se ha cargado correctamente\n",
    "if imagen is not None:\n",
    "    # Convierte la imagen en una matriz NumPy\n",
    "    matriz = np.array(imagen)\n",
    "    \n",
    "    # Ahora puedes trabajar con la matriz de la imagen\n",
    "    print(\"Matriz de la imagen:\")\n",
    "    print(matriz)\n",
    "else:\n",
    "    print(\"No se pudo cargar la imagen.\")\n"
   ]
  },
  {
   "cell_type": "code",
   "execution_count": null,
   "id": "4e45d3e5",
   "metadata": {},
   "outputs": [],
   "source": [
    "cv2.imwrite('matriz_como_imagen.png', matriz)\n",
    "cv2.imshow('Mi Imagen', matriz)\n",
    "cv2.waitKey(0)\n",
    "cv2.destroyAllWindows()"
   ]
  },
  {
   "cell_type": "code",
   "execution_count": null,
   "id": "60014dad",
   "metadata": {},
   "outputs": [],
   "source": []
  }
 ],
 "metadata": {
  "kernelspec": {
   "display_name": "Python 3 (ipykernel)",
   "language": "python",
   "name": "python3"
  },
  "language_info": {
   "codemirror_mode": {
    "name": "ipython",
    "version": 3
   },
   "file_extension": ".py",
   "mimetype": "text/x-python",
   "name": "python",
   "nbconvert_exporter": "python",
   "pygments_lexer": "ipython3",
   "version": "3.9.15"
  }
 },
 "nbformat": 4,
 "nbformat_minor": 5
}
